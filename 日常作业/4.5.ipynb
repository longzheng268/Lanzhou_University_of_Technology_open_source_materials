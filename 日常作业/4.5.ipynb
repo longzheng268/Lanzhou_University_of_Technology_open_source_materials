# 导入必要的库（如果需要）
import numpy as np

# 混淆矩阵数据
TP = 1026  # 真正例
FP = 1101  # 假正例
TN = 911026  # 真负例
FN = 1007  # 假负例

# 计算准确率
accuracy = (TP + TN) / (TP + FP + TN + FN)

# 计算精确率
precision = TP / (TP + FP) if (TP + FP) > 0 else 0

# 计算召回率
recall = TP / (TP + FN) if (TP + FN) > 0 else 0

# 计算F1-score
f1_score = (2 * precision * recall) / (precision + recall) if (precision + recall) > 0 else 0

# 输出结果
print("准确率: {:.4f}".format(accuracy))
print("精确率: {:.4f}".format(precision))
print("召回率: {:.4f}".format(recall))
print("F1-score: {:.4f}".format(f1_score))
