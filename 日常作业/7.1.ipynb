import numpy as np

# 初始化权重和偏置
w = np.random.rand(2)
b = np.random.rand()

# 感知机学习算法
def perceptron_learning(samples, epochs=100, learning_rate=0.1):
    global w, b  # 声明w和b为全局变量
    for epoch in range(epochs):
        for sample in samples:
            x = np.array(sample[:2])
            y = sample[2]
            y_pred = 1 if np.dot(w, x) + b > 0 else 0
            w += learning_rate * (y - y_pred) * x
            b += learning_rate * (y - y_pred)
    
    return w, b

# 将感知机学习算法应用于生成的样本
weights, bias = perceptron_learning(samples)

print("学到的权重:", weights)
print("学到的偏置:", bias)
