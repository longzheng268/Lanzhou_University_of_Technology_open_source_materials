from sklearn.decomposition import PCA

# 将原始矩阵转换为二维数组
data = A.A  # 使用 .A 将矩阵转换为 NumPy 数组
print("\nUsing PCA for dimensionality reduction:")

# 初始化 PCA，指定降维后的维度
pca = PCA(n_components=1)  # 降维到 1 维
data_reduced = pca.fit_transform(data)

# 打印降维后的结果
print("Reduced data:")
print(data_reduced)

# 打印主成分
print("Principal components:")
print(pca.components_)

# 还原数据
reconstructed_data = pca.inverse_transform(data_reduced)
print("Reconstructed data from reduced dimensions:")
print(reconstructed_data)
