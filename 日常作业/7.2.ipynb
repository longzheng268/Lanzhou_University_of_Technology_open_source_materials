import numpy as np

def sigmoid(x):
    return 1 / (1 + np.exp(-x))

# 定义权重和阈值
W1 = np.array([[0.1, 0.2],
               [0.2, 0.3]])  # 第1隐层的连接权重系数
theta1 = np.array([0.3, 0.3])  # 第1隐层的阈值
W2 = np.array([[0.4, 0.5],
               [0.4, 0.5]])  # 第2隐层的连接权重系数
theta2 = np.array([0.6, 0.6])  # 第2隐层的阈值

# 输入样本
X = np.array([0.0, 1.0])

# 计算第1隐层节点1的输出
def y_1_1(W1, theta1, X):
    return sigmoid(W1[0, 0] * X[0] + W1[1, 0] * X[1] + theta1[0])

# 计算第1隐层节点2的输出
def y_1_2(W1, theta1, X):
    return sigmoid(W1[0, 1] * X[0] + W1[1, 1] * X[1] + theta1[1])

# 计算第2隐层节点1的输出
def y_2_1(W2, theta2, Y1):
    return sigmoid(W2[0, 0] * Y1[0] + W2[1, 0] * Y1[1] + theta2[0])

# 计算第2隐层节点2的输出
def y_2_2(W2, theta2, Y1):
    return sigmoid(W2[0, 1] * Y1[0] + W2[1, 1] * Y1[1] + theta2[1])

# 前向传播计算
Y1 = np.zeros(2)
Y2 = np.zeros(2)

Y1[0] = y_1_1(W1, theta1, X)
Y1[1] = y_1_2(W1, theta1, X)

Y2[0] = y_2_1(W2, theta2, Y1)
Y2[1] = y_2_2(W2, theta2, Y1)

print("第2隐层节点1的输出：", Y2[0])
print("第2隐层节点2的输出：", Y2[1])
