def forward_algorithm(pi, A, B, observations):
    num_states = len(pi)
    num_observations = len(observations)
    
    # 初始化前向概率矩阵
    alpha = np.zeros((num_observations, num_states))
    
    # 初始时刻 t=0
    first_observation = observations[0]
    for j in range(num_states):
        alpha[0][j] = pi[j] * B[j][first_observation - 2]  # -2 因为 observations 是从 2 开始的

    # 递推计算
    for t in range(1, num_observations):
        current_observation = observations[t]
        for j in range(num_states):
            alpha[t][j] = sum(alpha[t-1][i] * A[i][j] for i in range(num_states)) * B[j][current_observation - 2]

    # 计算最终概率
    probability = sum(alpha[num_observations - 1][j] for j in range(num_states))
    return probability

# 测试观测序列 [10, 11, 7]
observations_sequence = [10, 11, 7]
probability = forward_algorithm(pi, A, B, observations_sequence)
print("观测序列 [10, 11, 7] 的概率:", probability)
