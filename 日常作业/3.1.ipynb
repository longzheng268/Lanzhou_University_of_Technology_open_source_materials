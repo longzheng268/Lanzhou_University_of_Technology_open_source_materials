from sklearn import linear_model  # 导入线性模型
import matplotlib.pyplot as plt    # 用于作图
import numpy as np                 # 用于创建向量

# 创建线性回归模型
reg = linear_model.LinearRegression(fit_intercept=True, normalize=False)

# 输入数据
x = [[15], [20], [25], [30], [35], [40]]
y = [136, 140, 155, 160, 157, 175]

# 训练模型
reg.fit(x, y)

# 获取模型参数
k = reg.coef_[0]  # 获取斜率
b = reg.intercept_  # 获取截距

# 生成预测值并可视化
x0 = np.arange(15, 41)  # 生成从15到40的数值，包括40
y0 = k * x0 + b  # 计算预测值
plt.scatter(x, y, color='blue', label='Data Points')  # 绘制散点图
plt.plot(x0, y0, color='red', label='Regression Line')  # 绘制线性回归直线
plt.xlabel('Temperature')
plt.ylabel('Measured Value')
plt.title('Linear Regression Fit')
plt.legend()
plt.grid()
plt.show()

# 打印斜率和截距
print("k =", k, "b =", b, "\n")

# 对新的温度值进行预测
new_tempera = [18]
new_tempera = (np.mat(new_tempera)).T
pro_num = k * new_tempera + b
print("Predicted value for temperature 18:", pro_num[0, 0])

new_tempera = [22]
new_tempera = (np.mat(new_tempera)).T
pro_num = k * new_tempera + b
print("Predicted value for temperature 22:", pro_num[0, 0])

new_tempera = [33]
new_tempera = (np.mat(new_tempera)).T
pro_num = k * new_tempera + b
print("Predicted value for temperature 33:", pro_num[0, 0])
