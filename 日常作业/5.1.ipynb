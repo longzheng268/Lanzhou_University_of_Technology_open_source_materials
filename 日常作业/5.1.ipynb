import pandas as pd
from statsmodels.graphics.mosaicplot import mosaic
import matplotlib.pyplot as plt

# 读取数据集
df = pd.read_csv(r'feature_offline_in15days_2018_01_06.csv')

# 输出 DataFrame 的前几行和列名，检查是否有日期列
print(df.head())  # 打印前几行数据
print(df.columns)  # 打印所有列名

# 使用 'Date' 列并将其转换为 datetime 类型
# 首先处理可能的 NaN 或格式问题，确保 Date 列是字符串类型
df['Date'] = df['Date'].astype(str).str.replace('.0', '', regex=False)

# 然后将其转换为 datetime 格式
df['Date'] = pd.to_datetime(df['Date'], format='%Y%m%d', errors='coerce')  # 使用合适的日期格式

# 检查转换后的结果
print(df['Date'].head())

# 提取星期几
df['weekday'] = df['Date'].dt.day_name()

# 确保 coupon_apply 列存在并进行处理
if 'coupon_apply' in df.columns:
    label = df['coupon_apply'].astype('str').apply(lambda x: '用券' if x == '1' else '不用')
else:
    print("数据集中找不到 'coupon_apply' 列，请检查列名")

# 检查是否成功创建了 weekday 列
if 'weekday' in df.columns:
    # 创建一个 DataFrame 用于马赛克图
    mosaic_data = pd.concat([df['weekday'], label], axis=1)
    mosaic_data.columns = ['weekday', 'coupon_apply']  # 重命名列

    # 绘制马赛克图
    plt.figure(figsize=(12, 6))
    mosaic(data=mosaic_data, index=['weekday', 'coupon_apply'], gap=0.01, title='星期几与使用优惠券的关系')
    plt.xticks(rotation=45)  # 可以旋转X轴标签以提高可读性
    plt.show()
else:
    print("未能创建 'weekday' 列，无法绘制马赛克图。")
