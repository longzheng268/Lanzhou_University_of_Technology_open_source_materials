import numpy as np

def viterbi_algorithm(pi, A, B, observations):
    num_states = len(pi)
    num_observations = len(observations)
    
    # 初始化 delta 和 psi 矩阵
    delta = np.zeros((num_observations, num_states))
    psi = np.zeros((num_observations, num_states), dtype=int)
    
    # 第一步初始化
    first_observation = observations[0]
    for j in range(num_states):
        delta[0][j] = pi[j] * B[j][first_observation - 2]  # 观测序列从2开始
    
    # 动态规划计算
    for t in range(1, num_observations):
        current_observation = observations[t]
        for j in range(num_states):
            max_prob, max_state = max((delta[t-1][i] * A[i][j], i) for i in range(num_states))
            delta[t][j] = max_prob * B[j][current_observation - 2]
            psi[t][j] = max_state  # 记录最优前驱状态
    
    # 找到最终状态序列
    best_path = np.zeros(num_observations, dtype=int)
    best_last_state = np.argmax(delta[num_observations - 1])
    best_path[num_observations - 1] = best_last_state
    
    # 回溯得到最优状态序列
    for t in range(num_observations - 2, -1, -1):
        best_path[t] = psi[t + 1][best_path[t + 1]]
    
    return best_path, delta

# 测试观测序列 [10, 11, 7]
observations_sequence = [10, 11, 7]
best_state_sequence, delta_matrix = viterbi_algorithm(pi, A, B, observations_sequence)

# 输出结果
print("观测序列 [10, 11, 7] 的最可能状态序列:", best_state_sequence)
print("Delta 矩阵:\n", delta_matrix)