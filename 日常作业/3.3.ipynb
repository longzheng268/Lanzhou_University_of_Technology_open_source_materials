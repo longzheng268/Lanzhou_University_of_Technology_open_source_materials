import numpy as np

def lossValue(X, y, W):
    return np.sum(np.square(X * W - y)) / (2 * len(y))

def gradient(X, y, W):
    return X.T * (X * W - y) / len(y)

temperatures = [15, 20, 25, 30, 35, 40]
flowers = [136, 140, 155, 160, 157, 175]

X = (np.mat([[1, 1, 1, 1, 1, 1], temperatures])).T
y = (np.mat(flowers)).T

W = (np.mat([0.0, 0.0])).T
print(W)

alpha = 0.00025
loss_change = 0.000001
loss = lossValue(X, y, W)

for i in range(30000):
    grad = gradient(X, y, W)
    alpha = 0.00025 / (1 + i)  # 动态调整步长
    W = W - alpha * grad
    newloss = lossValue(X, y, W)
    
    print(str(i) + ": " + str(W[0]) + ' : ' + str(W[1]))
    print(newloss)
    
    if abs(loss - newloss) < loss_change:
        break
    
    loss = newloss

new_tempera = [18, 22, 33]
new_tempera = (np.mat([[1, 1, 1], new_tempera])).T
pro_num = new_tempera * W
print(pro_num)
