import numpy as np

# 隐藏状态集合
states = ['Sunny', 'Rainy']

# 初始状态概率向量
pi = np.array([0.6, 0.4])

# 状态转移矩阵 A
A = np.array([[0.8, 0.2],
              [0.4, 0.6]])

# 观测概率矩阵 B
B = np.array([[0.4, 0.6],
              [0.7, 0.3]])

# 前向算法
def forward_algorithm(pi, A, B, observations):
    num_states = len(pi)
    num_observations = len(observations)
    
    alpha = np.zeros((num_observations, num_states))
    
    # 初始化第一步
    for j in range(num_states):
        alpha[0][j] = pi[j] * B[j][observations[0]]
    
    # 递推计算
    for t in range(1, num_observations):
        for j in range(num_states):
            alpha[t][j] = np.sum(alpha[t-1] * A[:,j]) * B[j][observations[t]]
    
    probability = np.sum(alpha[num_observations-1])
    return probability

# 维特比算法
def viterbi_algorithm(pi, A, B, observations):
    num_states = len(pi)
    num_observations = len(observations)
    
    delta = np.zeros((num_observations, num_states))
    psi = np.zeros((num_observations, num_states), dtype=int)
    
    # 初始化第一步
    for j in range(num_states):
        delta[0][j] = pi[j] * B[j][observations[0]]
    
    # 递推计算
    for t in range(1, num_observations):
        for j in range(num_states):
            max_prob, max_state = max((delta[t-1][i] * A[i][j], i) for i in range(num_states))
            delta[t][j] = max_prob * B[j][observations[t]]
            psi[t][j] = max_state
    
    # 回溯得到最优状态序列
    best_path = np.zeros(num_observations, dtype=int)
    best_last_state = np.argmax(delta[num_observations - 1])
    best_path[num_observations - 1] = best_last_state
    
    for t in range(num_observations - 2, -1, -1):
        best_path[t] = psi[t + 1][best_path[t + 1]]
    
    return best_path

# 测试观测序列
observations_sequence = [0, 1, 1]  # 表示观测到 Coat 和 T-shirt

# 计算概率
probability_forward = forward_algorithm(pi, A, B, observations_sequence)
print("观测序列的概率(前向算法):", probability_forward)

# 预测状态序列
best_state_sequence = viterbi_algorithm(pi, A, B, observations_sequence)
print("预测的最可能状态序列:", [states[i] for i in best_state_sequence])
